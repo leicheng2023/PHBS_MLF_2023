{
 "cells": [
  {
   "cell_type": "markdown",
   "source": [
    "# Data Preprocess"
   ],
   "metadata": {
    "collapsed": false
   },
   "id": "2ed0ca2ac73e152a"
  },
  {
   "cell_type": "code",
   "execution_count": 1,
   "id": "initial_id",
   "metadata": {
    "collapsed": true,
    "ExecuteTime": {
     "end_time": "2024-04-12T02:56:52.287015Z",
     "start_time": "2024-04-12T02:56:51.546534Z"
    }
   },
   "outputs": [
    {
     "data": {
      "text/plain": "     datetime instrument       high       open        low      close  \\\n0  2014-01-02   SH600000  68.873001  68.800102  67.706902  67.998398   \n1  2014-01-02   SH600004  10.838500  10.776300  10.729600  10.791800   \n2  2014-01-02   SH600005  11.540400  11.384500  11.176500  11.280500   \n3  2014-01-02   SH600006  10.119800  10.119800  10.015400  10.085000   \n4  2014-01-02   SH600007  16.898701  16.898701  16.691200  16.818899   \n\n         volume       vwap  is_st     ret10      ret5  \n0  9.580077e+06  68.100788  False -0.002189  0.029540  \n1  1.791940e+06  10.766718  False -0.040697 -0.045053  \n2  5.773659e+06  11.304832  False -0.032856 -0.032856  \n3  1.037137e+06  10.058204  False -0.024397 -0.052271  \n4  2.661181e+05  16.773777  False -0.070106 -0.052575  ",
      "text/html": "<div>\n<style scoped>\n    .dataframe tbody tr th:only-of-type {\n        vertical-align: middle;\n    }\n\n    .dataframe tbody tr th {\n        vertical-align: top;\n    }\n\n    .dataframe thead th {\n        text-align: right;\n    }\n</style>\n<table border=\"1\" class=\"dataframe\">\n  <thead>\n    <tr style=\"text-align: right;\">\n      <th></th>\n      <th>datetime</th>\n      <th>instrument</th>\n      <th>high</th>\n      <th>open</th>\n      <th>low</th>\n      <th>close</th>\n      <th>volume</th>\n      <th>vwap</th>\n      <th>is_st</th>\n      <th>ret10</th>\n      <th>ret5</th>\n    </tr>\n  </thead>\n  <tbody>\n    <tr>\n      <th>0</th>\n      <td>2014-01-02</td>\n      <td>SH600000</td>\n      <td>68.873001</td>\n      <td>68.800102</td>\n      <td>67.706902</td>\n      <td>67.998398</td>\n      <td>9.580077e+06</td>\n      <td>68.100788</td>\n      <td>False</td>\n      <td>-0.002189</td>\n      <td>0.029540</td>\n    </tr>\n    <tr>\n      <th>1</th>\n      <td>2014-01-02</td>\n      <td>SH600004</td>\n      <td>10.838500</td>\n      <td>10.776300</td>\n      <td>10.729600</td>\n      <td>10.791800</td>\n      <td>1.791940e+06</td>\n      <td>10.766718</td>\n      <td>False</td>\n      <td>-0.040697</td>\n      <td>-0.045053</td>\n    </tr>\n    <tr>\n      <th>2</th>\n      <td>2014-01-02</td>\n      <td>SH600005</td>\n      <td>11.540400</td>\n      <td>11.384500</td>\n      <td>11.176500</td>\n      <td>11.280500</td>\n      <td>5.773659e+06</td>\n      <td>11.304832</td>\n      <td>False</td>\n      <td>-0.032856</td>\n      <td>-0.032856</td>\n    </tr>\n    <tr>\n      <th>3</th>\n      <td>2014-01-02</td>\n      <td>SH600006</td>\n      <td>10.119800</td>\n      <td>10.119800</td>\n      <td>10.015400</td>\n      <td>10.085000</td>\n      <td>1.037137e+06</td>\n      <td>10.058204</td>\n      <td>False</td>\n      <td>-0.024397</td>\n      <td>-0.052271</td>\n    </tr>\n    <tr>\n      <th>4</th>\n      <td>2014-01-02</td>\n      <td>SH600007</td>\n      <td>16.898701</td>\n      <td>16.898701</td>\n      <td>16.691200</td>\n      <td>16.818899</td>\n      <td>2.661181e+05</td>\n      <td>16.773777</td>\n      <td>False</td>\n      <td>-0.070106</td>\n      <td>-0.052575</td>\n    </tr>\n  </tbody>\n</table>\n</div>"
     },
     "execution_count": 1,
     "metadata": {},
     "output_type": "execute_result"
    }
   ],
   "source": [
    "import pandas as pd\n",
    "import numpy as np\n",
    "import os\n",
    "\n",
    "raw_data = pd.read_parquet('data/raw_data.par')\n",
    "raw_data.rename(columns={'return_T+1_T+11':'ret10', 'return_T+1_T+6':'ret5'}, inplace=True)\n",
    "raw_data.head()"
   ]
  },
  {
   "cell_type": "code",
   "outputs": [
    {
     "data": {
      "text/plain": "     datetime instrument       high       open        low      close  \\\n0  2014-01-02   SH600000  68.873001  68.800102  67.706902  67.998398   \n1  2014-01-02   SH600004  10.838500  10.776300  10.729600  10.791800   \n2  2014-01-02   SH600005  11.540400  11.384500  11.176500  11.280500   \n3  2014-01-02   SH600006  10.119800  10.119800  10.015400  10.085000   \n4  2014-01-02   SH600007  16.898701  16.898701  16.691200  16.818899   \n\n         volume       vwap     ret10      ret5  \n0  9.580077e+06  68.100788 -0.002189  0.029540  \n1  1.791940e+06  10.766718 -0.040697 -0.045053  \n2  5.773659e+06  11.304832 -0.032856 -0.032856  \n3  1.037137e+06  10.058204 -0.024397 -0.052271  \n4  2.661181e+05  16.773777 -0.070106 -0.052575  ",
      "text/html": "<div>\n<style scoped>\n    .dataframe tbody tr th:only-of-type {\n        vertical-align: middle;\n    }\n\n    .dataframe tbody tr th {\n        vertical-align: top;\n    }\n\n    .dataframe thead th {\n        text-align: right;\n    }\n</style>\n<table border=\"1\" class=\"dataframe\">\n  <thead>\n    <tr style=\"text-align: right;\">\n      <th></th>\n      <th>datetime</th>\n      <th>instrument</th>\n      <th>high</th>\n      <th>open</th>\n      <th>low</th>\n      <th>close</th>\n      <th>volume</th>\n      <th>vwap</th>\n      <th>ret10</th>\n      <th>ret5</th>\n    </tr>\n  </thead>\n  <tbody>\n    <tr>\n      <th>0</th>\n      <td>2014-01-02</td>\n      <td>SH600000</td>\n      <td>68.873001</td>\n      <td>68.800102</td>\n      <td>67.706902</td>\n      <td>67.998398</td>\n      <td>9.580077e+06</td>\n      <td>68.100788</td>\n      <td>-0.002189</td>\n      <td>0.029540</td>\n    </tr>\n    <tr>\n      <th>1</th>\n      <td>2014-01-02</td>\n      <td>SH600004</td>\n      <td>10.838500</td>\n      <td>10.776300</td>\n      <td>10.729600</td>\n      <td>10.791800</td>\n      <td>1.791940e+06</td>\n      <td>10.766718</td>\n      <td>-0.040697</td>\n      <td>-0.045053</td>\n    </tr>\n    <tr>\n      <th>2</th>\n      <td>2014-01-02</td>\n      <td>SH600005</td>\n      <td>11.540400</td>\n      <td>11.384500</td>\n      <td>11.176500</td>\n      <td>11.280500</td>\n      <td>5.773659e+06</td>\n      <td>11.304832</td>\n      <td>-0.032856</td>\n      <td>-0.032856</td>\n    </tr>\n    <tr>\n      <th>3</th>\n      <td>2014-01-02</td>\n      <td>SH600006</td>\n      <td>10.119800</td>\n      <td>10.119800</td>\n      <td>10.015400</td>\n      <td>10.085000</td>\n      <td>1.037137e+06</td>\n      <td>10.058204</td>\n      <td>-0.024397</td>\n      <td>-0.052271</td>\n    </tr>\n    <tr>\n      <th>4</th>\n      <td>2014-01-02</td>\n      <td>SH600007</td>\n      <td>16.898701</td>\n      <td>16.898701</td>\n      <td>16.691200</td>\n      <td>16.818899</td>\n      <td>2.661181e+05</td>\n      <td>16.773777</td>\n      <td>-0.070106</td>\n      <td>-0.052575</td>\n    </tr>\n  </tbody>\n</table>\n</div>"
     },
     "execution_count": 2,
     "metadata": {},
     "output_type": "execute_result"
    }
   ],
   "source": [
    "raw_data = raw_data[~raw_data['is_st']]\n",
    "del raw_data['is_st']\n",
    "raw_data.head()"
   ],
   "metadata": {
    "collapsed": false,
    "ExecuteTime": {
     "end_time": "2024-04-12T02:56:52.808968Z",
     "start_time": "2024-04-12T02:56:52.288037Z"
    }
   },
   "id": "266b44ac8032eb87",
   "execution_count": 2
  },
  {
   "cell_type": "markdown",
   "source": [
    "reshape the raw data to meet the input shape"
   ],
   "metadata": {
    "collapsed": false
   },
   "id": "e53dc6a9e81f1535"
  },
  {
   "cell_type": "code",
   "outputs": [
    {
     "name": "stdout",
     "output_type": "stream",
     "text": [
      "(2498,) (5272,)\n"
     ]
    }
   ],
   "source": [
    "sample_datetime = raw_data.datetime.unique()\n",
    "sample_stock = raw_data.instrument.unique()\n",
    "\n",
    "if not os.path.exists(f'data/processed_data'):\n",
    "    os.makedirs(f'data/processed_data')\n",
    "\n",
    "np.save('data/processed_data/sample_stock.npy', sample_stock)\n",
    "np.save('data/processed_data/sample_datetime.npy', sample_datetime)\n",
    "\n",
    "print(sample_datetime.shape, sample_stock.shape)"
   ],
   "metadata": {
    "collapsed": false,
    "ExecuteTime": {
     "end_time": "2024-04-12T02:56:53.074786Z",
     "start_time": "2024-04-12T02:56:52.811698Z"
    }
   },
   "id": "2a20ac29819ed22",
   "execution_count": 3
  },
  {
   "cell_type": "code",
   "outputs": [
    {
     "name": "stdout",
     "output_type": "stream",
     "text": [
      "(5272, 2498, 6)\n",
      "(5272, 2498)\n",
      "(5272, 2498)\n"
     ]
    }
   ],
   "source": [
    "features = ['open', 'high', 'low', 'close', 'volume', 'vwap']\n",
    "labels = ['ret10', 'ret5']\n",
    "\n",
    "X = np.zeros((len(sample_stock), len(sample_datetime), len(features)))\n",
    "for i, f in enumerate(features):\n",
    "    featurei = raw_data.pivot(index = 'instrument', columns = 'datetime', values = f)\n",
    "    X[:, :, i] = featurei.values\n",
    "print(X.shape)\n",
    "np.save('data/processed_data/X.npy', X)\n",
    "\n",
    "for l in labels:\n",
    "    label = raw_data.pivot(index = 'instrument', columns = 'datetime', values = l)\n",
    "    print(label.shape)\n",
    "    np.save(f'data/processed_data/{l}.npy', label)"
   ],
   "metadata": {
    "collapsed": false,
    "ExecuteTime": {
     "end_time": "2024-04-12T02:57:09.569153Z",
     "start_time": "2024-04-12T02:56:53.075707Z"
    }
   },
   "id": "b7ce28a12cc8d793",
   "execution_count": 4
  }
 ],
 "metadata": {
  "kernelspec": {
   "display_name": "Python 3",
   "language": "python",
   "name": "python3"
  },
  "language_info": {
   "codemirror_mode": {
    "name": "ipython",
    "version": 2
   },
   "file_extension": ".py",
   "mimetype": "text/x-python",
   "name": "python",
   "nbconvert_exporter": "python",
   "pygments_lexer": "ipython2",
   "version": "2.7.6"
  }
 },
 "nbformat": 4,
 "nbformat_minor": 5
}
