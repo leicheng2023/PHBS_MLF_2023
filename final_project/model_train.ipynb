{
 "cells": [
  {
   "cell_type": "markdown",
   "source": [
    "# Model Training"
   ],
   "metadata": {
    "collapsed": false
   },
   "id": "75e0de97f8c4a412"
  },
  {
   "cell_type": "code",
   "execution_count": 1,
   "id": "initial_id",
   "metadata": {
    "collapsed": true,
    "ExecuteTime": {
     "end_time": "2024-04-11T06:47:07.610668Z",
     "start_time": "2024-04-11T06:47:06.468702Z"
    }
   },
   "outputs": [],
   "source": [
    "import numpy as np\n",
    "import pandas as pd\n",
    "import torch\n",
    "from torch.utils.data.dataset import Dataset\n",
    "from torch.utils.data import DataLoader\n",
    "from torch import optim\n",
    "from tqdm import tqdm\n",
    "import os\n",
    "\n",
    "from code.train_model import ModelTrainer\n",
    "from code.function import load_train_data, load_test_data\n",
    "\n",
    "from model.gru_base import GRUModel\n",
    "from model.gru_patch import GRUPatchModel"
   ]
  },
  {
   "cell_type": "markdown",
   "source": [
    "## load data\n",
    "\n",
    "load the processed data and split the train set, test set and valid set"
   ],
   "metadata": {
    "collapsed": false
   },
   "id": "2e55ede675035767"
  },
  {
   "cell_type": "code",
   "outputs": [
    {
     "name": "stdout",
     "output_type": "stream",
     "text": [
      "(5272, 2498, 6) (5272, 2498) (5272, 2498) (2498,) (5272,)\n"
     ]
    }
   ],
   "source": [
    "X = np.load('data/processed_data/X.npy')\n",
    "ret5 = np.load('data/processed_data/ret5.npy')\n",
    "ret10 = np.load('data/processed_data/ret10.npy')\n",
    "\n",
    "sample_datetime = np.load('data/processed_data/sample_datetime.npy', allow_pickle=True)\n",
    "sample_stock = np.load('data/processed_data/sample_stock.npy', allow_pickle=True)\n",
    "print(X.shape, ret5.shape, ret10.shape, sample_datetime.shape, sample_stock.shape)"
   ],
   "metadata": {
    "collapsed": false,
    "ExecuteTime": {
     "end_time": "2024-04-11T06:47:07.856638Z",
     "start_time": "2024-04-11T06:47:07.611488Z"
    }
   },
   "id": "762f749d0e5f42ea",
   "execution_count": 2
  },
  {
   "cell_type": "code",
   "outputs": [
    {
     "name": "stdout",
     "output_type": "stream",
     "text": [
      "(5272, 2248, 6) (5272, 2248) (2248,)\n",
      "(5272, 290, 6) (5272, 290) (250,)\n"
     ]
    }
   ],
   "source": [
    "train_end = int(len(sample_datetime) * 0.9)\n",
    "valid_end = int(len(sample_datetime))\n",
    "\n",
    "seq_len = 40\n",
    "\n",
    "X_train, X_valid = X[:, :train_end], X[:, train_end-seq_len:valid_end]\n",
    "y_train, y_valid = ret10[:, :train_end], ret10[:, train_end-seq_len:valid_end]\n",
    "train_date, valid_date = sample_datetime[:train_end], sample_datetime[train_end:valid_end]\n",
    "\n",
    "print(X_train.shape, y_train.shape, train_date.shape)\n",
    "print(X_valid.shape, y_valid.shape, valid_date.shape)"
   ],
   "metadata": {
    "collapsed": false,
    "ExecuteTime": {
     "end_time": "2024-04-11T06:47:07.860744Z",
     "start_time": "2024-04-11T06:47:07.858172Z"
    }
   },
   "id": "bc22f4f6334c620",
   "execution_count": 3
  },
  {
   "cell_type": "code",
   "outputs": [],
   "source": [
    "x1_train, x1_test, y_train, y_test = load_train_data(X_train, y_train)\n",
    "BATCH_SIZE = 5000\n",
    "\n",
    "class Newdataset(Dataset):\n",
    "    def __init__(self, data1, label) -> None:\n",
    "        super().__init__()\n",
    "        self.data1 = data1.astype(np.float32)\n",
    "        self.label = label.astype(np.float32)\n",
    "\n",
    "    def __len__(self):\n",
    "        return len(self.data1)\n",
    "\n",
    "    def __getitem__(self, index):\n",
    "        return self.data1[index], self.label[index]\n",
    "\n",
    "train_ds = Newdataset(x1_train, y_train)\n",
    "train_dl = DataLoader(train_ds, batch_size=BATCH_SIZE, shuffle=True)\n",
    "\n",
    "test_ds = Newdataset(x1_test, y_test)\n",
    "test_dl = DataLoader(test_ds, batch_size=BATCH_SIZE, shuffle=True)"
   ],
   "metadata": {
    "collapsed": false,
    "ExecuteTime": {
     "end_time": "2024-04-11T06:47:19.708943Z",
     "start_time": "2024-04-11T06:47:07.861807Z"
    }
   },
   "id": "cd1bf303bb79e8ba",
   "execution_count": 4
  },
  {
   "cell_type": "markdown",
   "source": [
    "## set model\n",
    "\n",
    "set up the model trainer"
   ],
   "metadata": {
    "collapsed": false
   },
   "id": "95a5d707b29f5a35"
  },
  {
   "cell_type": "code",
   "outputs": [],
   "source": [
    "model1 = GRUModel()\n",
    "model2 = GRUPatchModel()\n",
    "\n",
    "optimizer1 = optim.Adam(model1.parameters(), lr=0.005)\n",
    "optimizer2 = optim.Adam(model2.parameters(), lr=0.005)\n",
    "\n",
    "device = torch.device(\"cuda:0\" if torch.cuda.is_available() else \"cpu\")\n",
    "\n",
    "modeltrainer1 = ModelTrainer(model1, optimizer1, device, 'gru')\n",
    "modeltrainer2 = ModelTrainer(model2, optimizer2, device, 'gru_patch')\n",
    "\n",
    "if not os.path.exists(f'data/saved_model'):\n",
    "    os.makedirs(f'data/saved_model')"
   ],
   "metadata": {
    "collapsed": false,
    "ExecuteTime": {
     "end_time": "2024-04-11T06:47:20.075351Z",
     "start_time": "2024-04-11T06:47:19.709744Z"
    }
   },
   "id": "67a821a7eae1379b",
   "execution_count": 5
  },
  {
   "cell_type": "markdown",
   "source": [
    "train model"
   ],
   "metadata": {
    "collapsed": false
   },
   "id": "7ae3c2e6c738ac89"
  },
  {
   "cell_type": "code",
   "outputs": [
    {
     "name": "stdout",
     "output_type": "stream",
     "text": [
      "current device: cpu\n",
      "begin time: Thu Apr 11 14:48:41 2024\n",
      "GRUModel(\n",
      "  (gru): GRU(6, 30, batch_first=True)\n",
      "  (head): PredictionHead(\n",
      "    (dropout): Dropout(p=0.0, inplace=False)\n",
      "    (hidden): BatchNorm1d(30, eps=1e-05, momentum=0.1, affine=True, track_running_stats=True)\n",
      "    (linear): Linear(in_features=30, out_features=1, bias=True)\n",
      "  )\n",
      ")\n",
      "Set random seed as 0 for pytorch\n"
     ]
    },
    {
     "name": "stderr",
     "output_type": "stream",
     "text": [
      "epoch:0 train IC:0.0690: 100%|██████████| 219/219 [00:44<00:00,  4.88it/s]\n",
      "epoch:0 test IC:0.0518 : 100%|██████████| 55/55 [00:05<00:00,  9.76it/s]\n",
      "epoch:1 train IC:0.0721: 100%|██████████| 219/219 [00:46<00:00,  4.75it/s]\n",
      "epoch:1 test IC:0.0500 : 100%|██████████| 55/55 [00:05<00:00,  9.36it/s]\n",
      "epoch:2 train IC:0.0761: 100%|██████████| 219/219 [00:45<00:00,  4.78it/s]\n",
      "epoch:2 test IC:0.0544 : 100%|██████████| 55/55 [00:05<00:00,  9.36it/s]\n",
      "epoch:3 train IC:0.0769: 100%|██████████| 219/219 [00:46<00:00,  4.72it/s]\n",
      "epoch:3 test IC:0.0595 : 100%|██████████| 55/55 [00:05<00:00,  9.86it/s]\n",
      "epoch:4 train IC:0.0790: 100%|██████████| 219/219 [00:47<00:00,  4.61it/s]\n",
      "epoch:4 test IC:0.0499 : 100%|██████████| 55/55 [00:05<00:00,  9.59it/s]\n",
      "epoch:5 train IC:0.0808: 100%|██████████| 219/219 [00:47<00:00,  4.65it/s]\n",
      "epoch:5 test IC:0.0568 : 100%|██████████| 55/55 [00:06<00:00,  9.15it/s]\n",
      "epoch:6 train IC:0.0846: 100%|██████████| 219/219 [00:48<00:00,  4.51it/s]\n",
      "epoch:6 test IC:0.0656 : 100%|██████████| 55/55 [00:06<00:00,  9.00it/s]\n",
      "epoch:7 train IC:0.0858: 100%|██████████| 219/219 [00:48<00:00,  4.56it/s]\n",
      "epoch:7 test IC:0.0597 : 100%|██████████| 55/55 [00:06<00:00,  9.00it/s]\n",
      "epoch:8 train IC:0.0874: 100%|██████████| 219/219 [00:48<00:00,  4.53it/s]\n",
      "epoch:8 test IC:0.0510 : 100%|██████████| 55/55 [00:06<00:00,  8.97it/s]\n",
      "epoch:9 train IC:0.0902: 100%|██████████| 219/219 [00:49<00:00,  4.42it/s]\n",
      "epoch:9 test IC:0.0589 : 100%|██████████| 55/55 [00:06<00:00,  8.62it/s]\n",
      "epoch:10 train IC:0.0912: 100%|██████████| 219/219 [00:48<00:00,  4.52it/s]\n",
      "epoch:10 test IC:0.0555 : 100%|██████████| 55/55 [00:06<00:00,  9.06it/s]\n",
      "epoch:11 train IC:0.0940: 100%|██████████| 219/219 [00:48<00:00,  4.49it/s]\n",
      "epoch:11 test IC:0.0686 : 100%|██████████| 55/55 [00:06<00:00,  8.95it/s]\n",
      "epoch:12 train IC:0.0952: 100%|██████████| 219/219 [00:49<00:00,  4.45it/s]\n",
      "epoch:12 test IC:0.0611 : 100%|██████████| 55/55 [00:06<00:00,  8.91it/s]\n",
      "epoch:13 train IC:0.0977: 100%|██████████| 219/219 [00:48<00:00,  4.48it/s]\n",
      "epoch:13 test IC:0.0501 : 100%|██████████| 55/55 [00:06<00:00,  8.94it/s]\n",
      "epoch:14 train IC:0.0992: 100%|██████████| 219/219 [00:49<00:00,  4.40it/s]\n",
      "epoch:14 test IC:0.0560 : 100%|██████████| 55/55 [00:06<00:00,  8.88it/s]\n",
      "epoch:15 train IC:0.1008: 100%|██████████| 219/219 [00:49<00:00,  4.38it/s]\n",
      "epoch:15 test IC:0.0563 : 100%|██████████| 55/55 [00:06<00:00,  8.82it/s]\n",
      "epoch:16 train IC:0.1030: 100%|██████████| 219/219 [00:50<00:00,  4.32it/s]\n",
      "epoch:16 test IC:0.0742 : 100%|██████████| 55/55 [00:06<00:00,  8.70it/s]\n",
      "epoch:17 train IC:0.1030: 100%|██████████| 219/219 [00:50<00:00,  4.37it/s]\n",
      "epoch:17 test IC:0.0599 : 100%|██████████| 55/55 [00:06<00:00,  8.72it/s]\n",
      "epoch:18 train IC:0.1062: 100%|██████████| 219/219 [00:50<00:00,  4.37it/s]\n",
      "epoch:18 test IC:0.0632 : 100%|██████████| 55/55 [00:06<00:00,  8.63it/s]\n",
      "epoch:19 train IC:0.1082: 100%|██████████| 219/219 [00:50<00:00,  4.33it/s]\n",
      "epoch:19 test IC:0.0477 : 100%|██████████| 55/55 [00:06<00:00,  8.68it/s]\n",
      "epoch:20 train IC:0.1102: 100%|██████████| 219/219 [00:50<00:00,  4.33it/s]\n",
      "epoch:20 test IC:0.0674 : 100%|██████████| 55/55 [00:06<00:00,  8.66it/s]\n",
      "epoch:21 train IC:0.1119: 100%|██████████| 219/219 [00:51<00:00,  4.24it/s]\n",
      "epoch:21 test IC:0.0675 : 100%|██████████| 55/55 [00:06<00:00,  8.18it/s]\n"
     ]
    },
    {
     "name": "stdout",
     "output_type": "stream",
     "text": [
      "current device: cpu\n",
      "begin time: Thu Apr 11 15:08:48 2024\n",
      "GRUPatchModel(\n",
      "  (gru): GRU(5, 30, batch_first=True)\n",
      "  (flatten): Flatten_Head(\n",
      "    (linears): ModuleList(\n",
      "      (0-5): 6 x Linear(in_features=30, out_features=1, bias=True)\n",
      "    )\n",
      "    (dropouts): ModuleList(\n",
      "      (0-5): 6 x Dropout(p=0.1, inplace=False)\n",
      "    )\n",
      "    (flattens): ModuleList(\n",
      "      (0-5): 6 x Flatten(start_dim=-2, end_dim=-1)\n",
      "    )\n",
      "    (batch0): BatchNorm1d(30, eps=1e-05, momentum=0.1, affine=True, track_running_stats=True)\n",
      "    (batch1): BatchNorm1d(6, eps=1e-05, momentum=0.1, affine=True, track_running_stats=True)\n",
      "    (outlinear): Sequential(\n",
      "      (0): ReLU()\n",
      "      (1): Linear(in_features=6, out_features=1, bias=True)\n",
      "    )\n",
      "  )\n",
      ")\n",
      "Set random seed as 0 for pytorch\n"
     ]
    },
    {
     "name": "stderr",
     "output_type": "stream",
     "text": [
      "epoch:0 train IC:0.0439: 100%|██████████| 219/219 [04:12<00:00,  1.15s/it]\n",
      "epoch:0 test IC:0.0527 : 100%|██████████| 55/55 [00:26<00:00,  2.06it/s]\n",
      "epoch:1 train IC:0.0676: 100%|██████████| 219/219 [03:55<00:00,  1.08s/it]\n",
      "epoch:1 test IC:0.0519 : 100%|██████████| 55/55 [00:24<00:00,  2.26it/s]\n",
      "epoch:2 train IC:0.0704: 100%|██████████| 219/219 [03:55<00:00,  1.08s/it]\n",
      "epoch:2 test IC:0.0532 : 100%|██████████| 55/55 [00:24<00:00,  2.20it/s]\n",
      "epoch:3 train IC:0.0729: 100%|██████████| 219/219 [04:04<00:00,  1.12s/it]\n",
      "epoch:3 test IC:0.0474 : 100%|██████████| 55/55 [00:25<00:00,  2.15it/s]\n",
      "epoch:4 train IC:0.0743: 100%|██████████| 219/219 [04:01<00:00,  1.10s/it]\n",
      "epoch:4 test IC:0.0513 : 100%|██████████| 55/55 [00:25<00:00,  2.15it/s]\n",
      "epoch:5 train IC:0.0751: 100%|██████████| 219/219 [04:05<00:00,  1.12s/it]\n",
      "epoch:5 test IC:0.0440 : 100%|██████████| 55/55 [00:25<00:00,  2.18it/s]\n",
      "epoch:6 train IC:0.0756: 100%|██████████| 219/219 [04:07<00:00,  1.13s/it]\n",
      "epoch:6 test IC:0.0517 : 100%|██████████| 55/55 [00:26<00:00,  2.06it/s]\n",
      "epoch:7 train IC:0.0773: 100%|██████████| 219/219 [04:12<00:00,  1.15s/it]\n",
      "epoch:7 test IC:0.0577 : 100%|██████████| 55/55 [00:26<00:00,  2.07it/s]\n",
      "epoch:8 train IC:0.0786: 100%|██████████| 219/219 [04:13<00:00,  1.16s/it]\n",
      "epoch:8 test IC:0.0525 : 100%|██████████| 55/55 [00:30<00:00,  1.82it/s]\n",
      "epoch:9 train IC:0.0803: 100%|██████████| 219/219 [04:12<00:00,  1.15s/it]\n",
      "epoch:9 test IC:0.0464 : 100%|██████████| 55/55 [00:27<00:00,  2.01it/s]\n",
      "epoch:10 train IC:0.0817: 100%|██████████| 219/219 [04:10<00:00,  1.14s/it]\n",
      "epoch:10 test IC:0.0505 : 100%|██████████| 55/55 [00:26<00:00,  2.10it/s]\n",
      "epoch:11 train IC:0.0848: 100%|██████████| 219/219 [04:10<00:00,  1.15s/it]\n",
      "epoch:11 test IC:0.0563 : 100%|██████████| 55/55 [00:32<00:00,  1.71it/s]\n",
      "epoch:12 train IC:0.0867: 100%|██████████| 219/219 [04:25<00:00,  1.21s/it]\n",
      "epoch:12 test IC:0.0478 : 100%|██████████| 55/55 [00:27<00:00,  2.03it/s]\n"
     ]
    },
    {
     "data": {
      "text/plain": "([0.04387389672326071,\n  0.06758110345283855,\n  0.07035817737695357,\n  0.0728832052331673,\n  0.074260747553483,\n  0.07505820604406943,\n  0.07559273422155614,\n  0.0772748186410358,\n  0.07864979873560199,\n  0.08026525121369318,\n  0.08169258915347187,\n  0.08476456377195986,\n  0.08666225340744677],\n [0.052669897506182846,\n  0.051933313652195716,\n  0.05320246367429553,\n  0.04742696102369915,\n  0.05128775657239285,\n  0.04402481748468497,\n  0.05169810431755402,\n  0.057701658908362416,\n  0.05252456740814854,\n  0.04641687252812765,\n  0.050467050346461206,\n  0.056259666696529494,\n  0.04779086589008908])"
     },
     "execution_count": 9,
     "metadata": {},
     "output_type": "execute_result"
    }
   ],
   "source": [
    "# modeltrainer1.fit(train_dl, test_dl, 'data')\n",
    "# modeltrainer2.fit(train_dl, test_dl, 'data')"
   ],
   "metadata": {
    "collapsed": false,
    "ExecuteTime": {
     "end_time": "2024-04-11T08:08:25.869255Z",
     "start_time": "2024-04-11T06:48:41.926762Z"
    }
   },
   "id": "95e42f278cc5ed03",
   "execution_count": 9
  },
  {
   "cell_type": "markdown",
   "source": [
    "## predict factor\n",
    "\n",
    "use the model in valid set and get the factor output"
   ],
   "metadata": {
    "collapsed": false
   },
   "id": "bcc02ea2f49ad0b3"
  },
  {
   "cell_type": "code",
   "outputs": [],
   "source": [
    "# load model\n",
    "model1 = torch.load('data/saved_model/gru.pt')\n",
    "model2 = torch.load('data/saved_model/gru_patch.pt')\n",
    "\n",
    "optimizer1 = optim.Adam(model1.parameters(), lr=0.005)\n",
    "optimizer2 = optim.Adam(model2.parameters(), lr=0.005)\n",
    "\n",
    "device = torch.device(\"cuda:0\" if torch.cuda.is_available() else \"cpu\")\n",
    "\n",
    "modeltrainer1 = ModelTrainer(model1, optimizer1, device, 'gru')\n",
    "modeltrainer2 = ModelTrainer(model2, optimizer2, device, 'gru_patch')"
   ],
   "metadata": {
    "collapsed": false,
    "ExecuteTime": {
     "end_time": "2024-04-11T08:08:53.811892Z",
     "start_time": "2024-04-11T08:08:53.796257Z"
    }
   },
   "id": "a437c1fa312ab8f4",
   "execution_count": 11
  },
  {
   "cell_type": "code",
   "outputs": [],
   "source": [
    "def predict_valid_set(X_valid, y_valid, modeltrainer, valid_date, sample_stock):\n",
    "    fac_1 = pd.DataFrame(np.nan * np.zeros((X_valid.shape[0], len(valid_date)-10)))\n",
    "    i_panel = 0\n",
    "    for i in tqdm(range(len(valid_date)-10)):\n",
    "        x1_test, y_test, nonan_index = load_test_data(X_valid[:, i:i+seq_len, :], y_valid[:, i:i+seq_len])\n",
    "        test_ds = Newdataset(x1_test, y_test)\n",
    "        test_dl = DataLoader(test_ds, batch_size=len(x1_test))\n",
    "\n",
    "        y_pred = modeltrainer.predict(test_dl)\n",
    "        fac_1.iloc[nonan_index, i_panel] = y_pred[:, -1]\n",
    "        i_panel += 1\n",
    "    fac_1.columns = valid_date[:i_panel]\n",
    "    fac_1.index = sample_stock\n",
    "    return fac_1"
   ],
   "metadata": {
    "collapsed": false,
    "ExecuteTime": {
     "end_time": "2024-04-11T08:08:56.220246Z",
     "start_time": "2024-04-11T08:08:56.215272Z"
    }
   },
   "id": "508938188e4c272f",
   "execution_count": 12
  },
  {
   "cell_type": "code",
   "outputs": [
    {
     "name": "stderr",
     "output_type": "stream",
     "text": [
      "100%|██████████| 240/240 [00:35<00:00,  6.84it/s]\n",
      "100%|██████████| 240/240 [02:21<00:00,  1.70it/s]\n"
     ]
    }
   ],
   "source": [
    "fac1 = predict_valid_set(X_valid, y_valid, modeltrainer1, valid_date, sample_stock)\n",
    "fac2 = predict_valid_set(X_valid, y_valid, modeltrainer2, valid_date, sample_stock)"
   ],
   "metadata": {
    "collapsed": false,
    "ExecuteTime": {
     "end_time": "2024-04-11T08:11:54.978759Z",
     "start_time": "2024-04-11T08:08:58.343844Z"
    }
   },
   "id": "98136feff8c40385",
   "execution_count": 13
  },
  {
   "cell_type": "code",
   "outputs": [],
   "source": [
    "if not os.path.exists(f'data/saved_factor/'):\n",
    "    os.makedirs(f'data/saved_factor/')\n",
    "\n",
    "fac1.to_csv('data/saved_factor/fac1.csv')\n",
    "fac2.to_csv('data/saved_factor/fac2.csv')"
   ],
   "metadata": {
    "collapsed": false,
    "ExecuteTime": {
     "end_time": "2024-04-11T08:12:17.180147Z",
     "start_time": "2024-04-11T08:12:15.703127Z"
    }
   },
   "id": "6bfc42564765436e",
   "execution_count": 14
  }
 ],
 "metadata": {
  "kernelspec": {
   "display_name": "Python 3",
   "language": "python",
   "name": "python3"
  },
  "language_info": {
   "codemirror_mode": {
    "name": "ipython",
    "version": 2
   },
   "file_extension": ".py",
   "mimetype": "text/x-python",
   "name": "python",
   "nbconvert_exporter": "python",
   "pygments_lexer": "ipython2",
   "version": "2.7.6"
  }
 },
 "nbformat": 4,
 "nbformat_minor": 5
}
