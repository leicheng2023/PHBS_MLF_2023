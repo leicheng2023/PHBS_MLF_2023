{
 "cells": [
  {
   "cell_type": "markdown",
   "metadata": {},
   "source": [
    "# Classifier_2\n",
    "**2301212317_LeiCheng_Fintech**"
   ]
  },
  {
   "cell_type": "code",
   "execution_count": 60,
   "metadata": {},
   "outputs": [],
   "source": [
    "import pandas as pd\n",
    "import numpy as np\n",
    "import matplotlib.pyplot as plt\n"
   ]
  },
  {
   "cell_type": "code",
   "execution_count": 61,
   "metadata": {},
   "outputs": [],
   "source": [
    "data_training = pd.read_csv('../PCA_Hyperparameter_CV/data/cs-training.csv')"
   ]
  },
  {
   "cell_type": "code",
   "execution_count": 62,
   "metadata": {},
   "outputs": [
    {
     "data": {
      "text/html": [
       "<div>\n",
       "<style scoped>\n",
       "    .dataframe tbody tr th:only-of-type {\n",
       "        vertical-align: middle;\n",
       "    }\n",
       "\n",
       "    .dataframe tbody tr th {\n",
       "        vertical-align: top;\n",
       "    }\n",
       "\n",
       "    .dataframe thead th {\n",
       "        text-align: right;\n",
       "    }\n",
       "</style>\n",
       "<table border=\"1\" class=\"dataframe\">\n",
       "  <thead>\n",
       "    <tr style=\"text-align: right;\">\n",
       "      <th></th>\n",
       "      <th>Unnamed: 0</th>\n",
       "      <th>SeriousDlqin2yrs</th>\n",
       "      <th>RevolvingUtilizationOfUnsecuredLines</th>\n",
       "      <th>age</th>\n",
       "      <th>NumberOfTime30-59DaysPastDueNotWorse</th>\n",
       "      <th>DebtRatio</th>\n",
       "      <th>MonthlyIncome</th>\n",
       "      <th>NumberOfOpenCreditLinesAndLoans</th>\n",
       "      <th>NumberOfTimes90DaysLate</th>\n",
       "      <th>NumberRealEstateLoansOrLines</th>\n",
       "      <th>NumberOfTime60-89DaysPastDueNotWorse</th>\n",
       "      <th>NumberOfDependents</th>\n",
       "    </tr>\n",
       "  </thead>\n",
       "  <tbody>\n",
       "    <tr>\n",
       "      <th>0</th>\n",
       "      <td>1</td>\n",
       "      <td>1</td>\n",
       "      <td>0.766127</td>\n",
       "      <td>45</td>\n",
       "      <td>2</td>\n",
       "      <td>0.802982</td>\n",
       "      <td>9120.0</td>\n",
       "      <td>13</td>\n",
       "      <td>0</td>\n",
       "      <td>6</td>\n",
       "      <td>0</td>\n",
       "      <td>2.0</td>\n",
       "    </tr>\n",
       "    <tr>\n",
       "      <th>1</th>\n",
       "      <td>2</td>\n",
       "      <td>0</td>\n",
       "      <td>0.957151</td>\n",
       "      <td>40</td>\n",
       "      <td>0</td>\n",
       "      <td>0.121876</td>\n",
       "      <td>2600.0</td>\n",
       "      <td>4</td>\n",
       "      <td>0</td>\n",
       "      <td>0</td>\n",
       "      <td>0</td>\n",
       "      <td>1.0</td>\n",
       "    </tr>\n",
       "    <tr>\n",
       "      <th>2</th>\n",
       "      <td>3</td>\n",
       "      <td>0</td>\n",
       "      <td>0.658180</td>\n",
       "      <td>38</td>\n",
       "      <td>1</td>\n",
       "      <td>0.085113</td>\n",
       "      <td>3042.0</td>\n",
       "      <td>2</td>\n",
       "      <td>1</td>\n",
       "      <td>0</td>\n",
       "      <td>0</td>\n",
       "      <td>0.0</td>\n",
       "    </tr>\n",
       "    <tr>\n",
       "      <th>3</th>\n",
       "      <td>4</td>\n",
       "      <td>0</td>\n",
       "      <td>0.233810</td>\n",
       "      <td>30</td>\n",
       "      <td>0</td>\n",
       "      <td>0.036050</td>\n",
       "      <td>3300.0</td>\n",
       "      <td>5</td>\n",
       "      <td>0</td>\n",
       "      <td>0</td>\n",
       "      <td>0</td>\n",
       "      <td>0.0</td>\n",
       "    </tr>\n",
       "    <tr>\n",
       "      <th>4</th>\n",
       "      <td>5</td>\n",
       "      <td>0</td>\n",
       "      <td>0.907239</td>\n",
       "      <td>49</td>\n",
       "      <td>1</td>\n",
       "      <td>0.024926</td>\n",
       "      <td>63588.0</td>\n",
       "      <td>7</td>\n",
       "      <td>0</td>\n",
       "      <td>1</td>\n",
       "      <td>0</td>\n",
       "      <td>0.0</td>\n",
       "    </tr>\n",
       "    <tr>\n",
       "      <th>...</th>\n",
       "      <td>...</td>\n",
       "      <td>...</td>\n",
       "      <td>...</td>\n",
       "      <td>...</td>\n",
       "      <td>...</td>\n",
       "      <td>...</td>\n",
       "      <td>...</td>\n",
       "      <td>...</td>\n",
       "      <td>...</td>\n",
       "      <td>...</td>\n",
       "      <td>...</td>\n",
       "      <td>...</td>\n",
       "    </tr>\n",
       "    <tr>\n",
       "      <th>149995</th>\n",
       "      <td>149996</td>\n",
       "      <td>0</td>\n",
       "      <td>0.040674</td>\n",
       "      <td>74</td>\n",
       "      <td>0</td>\n",
       "      <td>0.225131</td>\n",
       "      <td>2100.0</td>\n",
       "      <td>4</td>\n",
       "      <td>0</td>\n",
       "      <td>1</td>\n",
       "      <td>0</td>\n",
       "      <td>0.0</td>\n",
       "    </tr>\n",
       "    <tr>\n",
       "      <th>149996</th>\n",
       "      <td>149997</td>\n",
       "      <td>0</td>\n",
       "      <td>0.299745</td>\n",
       "      <td>44</td>\n",
       "      <td>0</td>\n",
       "      <td>0.716562</td>\n",
       "      <td>5584.0</td>\n",
       "      <td>4</td>\n",
       "      <td>0</td>\n",
       "      <td>1</td>\n",
       "      <td>0</td>\n",
       "      <td>2.0</td>\n",
       "    </tr>\n",
       "    <tr>\n",
       "      <th>149997</th>\n",
       "      <td>149998</td>\n",
       "      <td>0</td>\n",
       "      <td>0.246044</td>\n",
       "      <td>58</td>\n",
       "      <td>0</td>\n",
       "      <td>3870.000000</td>\n",
       "      <td>NaN</td>\n",
       "      <td>18</td>\n",
       "      <td>0</td>\n",
       "      <td>1</td>\n",
       "      <td>0</td>\n",
       "      <td>0.0</td>\n",
       "    </tr>\n",
       "    <tr>\n",
       "      <th>149998</th>\n",
       "      <td>149999</td>\n",
       "      <td>0</td>\n",
       "      <td>0.000000</td>\n",
       "      <td>30</td>\n",
       "      <td>0</td>\n",
       "      <td>0.000000</td>\n",
       "      <td>5716.0</td>\n",
       "      <td>4</td>\n",
       "      <td>0</td>\n",
       "      <td>0</td>\n",
       "      <td>0</td>\n",
       "      <td>0.0</td>\n",
       "    </tr>\n",
       "    <tr>\n",
       "      <th>149999</th>\n",
       "      <td>150000</td>\n",
       "      <td>0</td>\n",
       "      <td>0.850283</td>\n",
       "      <td>64</td>\n",
       "      <td>0</td>\n",
       "      <td>0.249908</td>\n",
       "      <td>8158.0</td>\n",
       "      <td>8</td>\n",
       "      <td>0</td>\n",
       "      <td>2</td>\n",
       "      <td>0</td>\n",
       "      <td>0.0</td>\n",
       "    </tr>\n",
       "  </tbody>\n",
       "</table>\n",
       "<p>150000 rows × 12 columns</p>\n",
       "</div>"
      ],
      "text/plain": [
       "        Unnamed: 0  SeriousDlqin2yrs  RevolvingUtilizationOfUnsecuredLines  \\\n",
       "0                1                 1                              0.766127   \n",
       "1                2                 0                              0.957151   \n",
       "2                3                 0                              0.658180   \n",
       "3                4                 0                              0.233810   \n",
       "4                5                 0                              0.907239   \n",
       "...            ...               ...                                   ...   \n",
       "149995      149996                 0                              0.040674   \n",
       "149996      149997                 0                              0.299745   \n",
       "149997      149998                 0                              0.246044   \n",
       "149998      149999                 0                              0.000000   \n",
       "149999      150000                 0                              0.850283   \n",
       "\n",
       "        age  NumberOfTime30-59DaysPastDueNotWorse    DebtRatio  MonthlyIncome  \\\n",
       "0        45                                     2     0.802982         9120.0   \n",
       "1        40                                     0     0.121876         2600.0   \n",
       "2        38                                     1     0.085113         3042.0   \n",
       "3        30                                     0     0.036050         3300.0   \n",
       "4        49                                     1     0.024926        63588.0   \n",
       "...     ...                                   ...          ...            ...   \n",
       "149995   74                                     0     0.225131         2100.0   \n",
       "149996   44                                     0     0.716562         5584.0   \n",
       "149997   58                                     0  3870.000000            NaN   \n",
       "149998   30                                     0     0.000000         5716.0   \n",
       "149999   64                                     0     0.249908         8158.0   \n",
       "\n",
       "        NumberOfOpenCreditLinesAndLoans  NumberOfTimes90DaysLate  \\\n",
       "0                                    13                        0   \n",
       "1                                     4                        0   \n",
       "2                                     2                        1   \n",
       "3                                     5                        0   \n",
       "4                                     7                        0   \n",
       "...                                 ...                      ...   \n",
       "149995                                4                        0   \n",
       "149996                                4                        0   \n",
       "149997                               18                        0   \n",
       "149998                                4                        0   \n",
       "149999                                8                        0   \n",
       "\n",
       "        NumberRealEstateLoansOrLines  NumberOfTime60-89DaysPastDueNotWorse  \\\n",
       "0                                  6                                     0   \n",
       "1                                  0                                     0   \n",
       "2                                  0                                     0   \n",
       "3                                  0                                     0   \n",
       "4                                  1                                     0   \n",
       "...                              ...                                   ...   \n",
       "149995                             1                                     0   \n",
       "149996                             1                                     0   \n",
       "149997                             1                                     0   \n",
       "149998                             0                                     0   \n",
       "149999                             2                                     0   \n",
       "\n",
       "        NumberOfDependents  \n",
       "0                      2.0  \n",
       "1                      1.0  \n",
       "2                      0.0  \n",
       "3                      0.0  \n",
       "4                      0.0  \n",
       "...                    ...  \n",
       "149995                 0.0  \n",
       "149996                 2.0  \n",
       "149997                 0.0  \n",
       "149998                 0.0  \n",
       "149999                 0.0  \n",
       "\n",
       "[150000 rows x 12 columns]"
      ]
     },
     "execution_count": 62,
     "metadata": {},
     "output_type": "execute_result"
    }
   ],
   "source": [
    "data_training"
   ]
  },
  {
   "cell_type": "markdown",
   "metadata": {},
   "source": [
    "## Data Preprocessing"
   ]
  },
  {
   "cell_type": "code",
   "execution_count": 63,
   "metadata": {},
   "outputs": [],
   "source": [
    "data_training.drop(data_training.columns[0], axis=1,inplace=True)\n",
    "data_training.columns = ['Default'] + ['X'+str(i) for i in range(1,11)]"
   ]
  },
  {
   "cell_type": "code",
   "execution_count": 64,
   "metadata": {},
   "outputs": [
    {
     "data": {
      "text/html": [
       "<div>\n",
       "<style scoped>\n",
       "    .dataframe tbody tr th:only-of-type {\n",
       "        vertical-align: middle;\n",
       "    }\n",
       "\n",
       "    .dataframe tbody tr th {\n",
       "        vertical-align: top;\n",
       "    }\n",
       "\n",
       "    .dataframe thead th {\n",
       "        text-align: right;\n",
       "    }\n",
       "</style>\n",
       "<table border=\"1\" class=\"dataframe\">\n",
       "  <thead>\n",
       "    <tr style=\"text-align: right;\">\n",
       "      <th></th>\n",
       "      <th>Default</th>\n",
       "      <th>X1</th>\n",
       "      <th>X2</th>\n",
       "      <th>X3</th>\n",
       "      <th>X4</th>\n",
       "      <th>X5</th>\n",
       "      <th>X6</th>\n",
       "      <th>X7</th>\n",
       "      <th>X8</th>\n",
       "      <th>X9</th>\n",
       "      <th>X10</th>\n",
       "    </tr>\n",
       "  </thead>\n",
       "  <tbody>\n",
       "    <tr>\n",
       "      <th>count</th>\n",
       "      <td>150000.000000</td>\n",
       "      <td>150000.000000</td>\n",
       "      <td>150000.000000</td>\n",
       "      <td>150000.000000</td>\n",
       "      <td>150000.000000</td>\n",
       "      <td>1.202690e+05</td>\n",
       "      <td>150000.000000</td>\n",
       "      <td>150000.000000</td>\n",
       "      <td>150000.000000</td>\n",
       "      <td>150000.000000</td>\n",
       "      <td>146076.000000</td>\n",
       "    </tr>\n",
       "    <tr>\n",
       "      <th>mean</th>\n",
       "      <td>0.066840</td>\n",
       "      <td>6.048438</td>\n",
       "      <td>52.295207</td>\n",
       "      <td>0.421033</td>\n",
       "      <td>353.005076</td>\n",
       "      <td>6.670221e+03</td>\n",
       "      <td>8.452760</td>\n",
       "      <td>0.265973</td>\n",
       "      <td>1.018240</td>\n",
       "      <td>0.240387</td>\n",
       "      <td>0.757222</td>\n",
       "    </tr>\n",
       "    <tr>\n",
       "      <th>std</th>\n",
       "      <td>0.249746</td>\n",
       "      <td>249.755371</td>\n",
       "      <td>14.771866</td>\n",
       "      <td>4.192781</td>\n",
       "      <td>2037.818523</td>\n",
       "      <td>1.438467e+04</td>\n",
       "      <td>5.145951</td>\n",
       "      <td>4.169304</td>\n",
       "      <td>1.129771</td>\n",
       "      <td>4.155179</td>\n",
       "      <td>1.115086</td>\n",
       "    </tr>\n",
       "    <tr>\n",
       "      <th>min</th>\n",
       "      <td>0.000000</td>\n",
       "      <td>0.000000</td>\n",
       "      <td>0.000000</td>\n",
       "      <td>0.000000</td>\n",
       "      <td>0.000000</td>\n",
       "      <td>0.000000e+00</td>\n",
       "      <td>0.000000</td>\n",
       "      <td>0.000000</td>\n",
       "      <td>0.000000</td>\n",
       "      <td>0.000000</td>\n",
       "      <td>0.000000</td>\n",
       "    </tr>\n",
       "    <tr>\n",
       "      <th>25%</th>\n",
       "      <td>0.000000</td>\n",
       "      <td>0.029867</td>\n",
       "      <td>41.000000</td>\n",
       "      <td>0.000000</td>\n",
       "      <td>0.175074</td>\n",
       "      <td>3.400000e+03</td>\n",
       "      <td>5.000000</td>\n",
       "      <td>0.000000</td>\n",
       "      <td>0.000000</td>\n",
       "      <td>0.000000</td>\n",
       "      <td>0.000000</td>\n",
       "    </tr>\n",
       "    <tr>\n",
       "      <th>50%</th>\n",
       "      <td>0.000000</td>\n",
       "      <td>0.154181</td>\n",
       "      <td>52.000000</td>\n",
       "      <td>0.000000</td>\n",
       "      <td>0.366508</td>\n",
       "      <td>5.400000e+03</td>\n",
       "      <td>8.000000</td>\n",
       "      <td>0.000000</td>\n",
       "      <td>1.000000</td>\n",
       "      <td>0.000000</td>\n",
       "      <td>0.000000</td>\n",
       "    </tr>\n",
       "    <tr>\n",
       "      <th>75%</th>\n",
       "      <td>0.000000</td>\n",
       "      <td>0.559046</td>\n",
       "      <td>63.000000</td>\n",
       "      <td>0.000000</td>\n",
       "      <td>0.868254</td>\n",
       "      <td>8.249000e+03</td>\n",
       "      <td>11.000000</td>\n",
       "      <td>0.000000</td>\n",
       "      <td>2.000000</td>\n",
       "      <td>0.000000</td>\n",
       "      <td>1.000000</td>\n",
       "    </tr>\n",
       "    <tr>\n",
       "      <th>max</th>\n",
       "      <td>1.000000</td>\n",
       "      <td>50708.000000</td>\n",
       "      <td>109.000000</td>\n",
       "      <td>98.000000</td>\n",
       "      <td>329664.000000</td>\n",
       "      <td>3.008750e+06</td>\n",
       "      <td>58.000000</td>\n",
       "      <td>98.000000</td>\n",
       "      <td>54.000000</td>\n",
       "      <td>98.000000</td>\n",
       "      <td>20.000000</td>\n",
       "    </tr>\n",
       "  </tbody>\n",
       "</table>\n",
       "</div>"
      ],
      "text/plain": [
       "             Default             X1             X2             X3  \\\n",
       "count  150000.000000  150000.000000  150000.000000  150000.000000   \n",
       "mean        0.066840       6.048438      52.295207       0.421033   \n",
       "std         0.249746     249.755371      14.771866       4.192781   \n",
       "min         0.000000       0.000000       0.000000       0.000000   \n",
       "25%         0.000000       0.029867      41.000000       0.000000   \n",
       "50%         0.000000       0.154181      52.000000       0.000000   \n",
       "75%         0.000000       0.559046      63.000000       0.000000   \n",
       "max         1.000000   50708.000000     109.000000      98.000000   \n",
       "\n",
       "                  X4            X5             X6             X7  \\\n",
       "count  150000.000000  1.202690e+05  150000.000000  150000.000000   \n",
       "mean      353.005076  6.670221e+03       8.452760       0.265973   \n",
       "std      2037.818523  1.438467e+04       5.145951       4.169304   \n",
       "min         0.000000  0.000000e+00       0.000000       0.000000   \n",
       "25%         0.175074  3.400000e+03       5.000000       0.000000   \n",
       "50%         0.366508  5.400000e+03       8.000000       0.000000   \n",
       "75%         0.868254  8.249000e+03      11.000000       0.000000   \n",
       "max    329664.000000  3.008750e+06      58.000000      98.000000   \n",
       "\n",
       "                  X8             X9            X10  \n",
       "count  150000.000000  150000.000000  146076.000000  \n",
       "mean        1.018240       0.240387       0.757222  \n",
       "std         1.129771       4.155179       1.115086  \n",
       "min         0.000000       0.000000       0.000000  \n",
       "25%         0.000000       0.000000       0.000000  \n",
       "50%         1.000000       0.000000       0.000000  \n",
       "75%         2.000000       0.000000       1.000000  \n",
       "max        54.000000      98.000000      20.000000  "
      ]
     },
     "execution_count": 64,
     "metadata": {},
     "output_type": "execute_result"
    }
   ],
   "source": [
    "data_training.describe()"
   ]
  },
  {
   "cell_type": "code",
   "execution_count": 65,
   "metadata": {},
   "outputs": [],
   "source": [
    "#Fill-in the missing values (`nan`) with the column means\n",
    "data_training.fillna(data_training.mean(),inplace=True)\n",
    "data_imp = data_training.values"
   ]
  },
  {
   "cell_type": "code",
   "execution_count": 66,
   "metadata": {},
   "outputs": [],
   "source": [
    "from sklearn.model_selection import train_test_split\n",
    "\n",
    "# Splitting the dataset into features (X) and target variable (y)\n",
    "X, y = data_imp[:, 1:], data_imp[:, 0]\n",
    "\n",
    "# test_size=0.3 specifies the proportion of the dataset to include in the test split\n",
    "# random_state=0 sets the random seed for reproducibility of results\n",
    "# stratify=y ensures that the distribution of the target variable is preserved in both the training and testing sets\n",
    "X_train, X_test, y_train, y_test =\\\n",
    "    train_test_split(X, y, \n",
    "                     test_size=0.3, \n",
    "                     random_state=0, \n",
    "                     stratify=y)\n"
   ]
  },
  {
   "cell_type": "code",
   "execution_count": 67,
   "metadata": {},
   "outputs": [],
   "source": [
    "from sklearn.preprocessing import StandardScaler\n",
    "\n",
    "# Creating a StandardScaler object\n",
    "stdsc = StandardScaler()\n",
    "\n",
    "# use Z-score method to preprocess the train and test data\n",
    "X_train_std = stdsc.fit_transform(X_train)\n",
    "X_test_std = stdsc.transform(X_test)\n"
   ]
  },
  {
   "cell_type": "code",
   "execution_count": 68,
   "metadata": {},
   "outputs": [
    {
     "data": {
      "text/plain": [
       "array([[-1.87490702e-02, -2.20729509e-01,  1.39606666e-01, ...,\n",
       "         8.62626774e-01,  1.84700090e-01, -6.87987280e-01],\n",
       "       [-2.25432441e-02, -8.52017711e-02, -1.00381218e-01, ...,\n",
       "         8.62626774e-01, -5.74947479e-02, -2.15607607e-03],\n",
       "       [-2.22890413e-02, -2.20729509e-01, -1.00381218e-01, ...,\n",
       "         2.62319224e+00, -5.74947479e-02,  1.12345233e+00],\n",
       "       ...,\n",
       "       [-2.02827664e-02, -1.74379023e-02,  3.79594551e-01, ...,\n",
       "         2.62319224e+00,  4.26894928e-01,  1.12345233e+00],\n",
       "       [-2.14604827e-02,  1.06678400e+00, -1.00381218e-01, ...,\n",
       "        -8.97938687e-01, -5.74947479e-02, -6.87987280e-01],\n",
       "       [-2.26189331e-02,  1.33783948e+00, -1.00381218e-01, ...,\n",
       "        -8.97938687e-01, -5.74947479e-02, -6.87987280e-01]])"
      ]
     },
     "execution_count": 68,
     "metadata": {},
     "output_type": "execute_result"
    }
   ],
   "source": [
    "X_test_std\n"
   ]
  },
  {
   "cell_type": "code",
   "execution_count": 69,
   "metadata": {},
   "outputs": [
    {
     "data": {
      "text/plain": [
       "array([[-0.02238028,  0.59243692, -0.10038122, ..., -0.01765596,\n",
       "        -0.05749475,  0.21773252],\n",
       "       [-0.02261352,  1.066784  , -0.10038122, ..., -0.89793869,\n",
       "        -0.05749475, -0.68798728],\n",
       "       [-0.02012583, -1.23718754, -0.10038122, ..., -0.89793869,\n",
       "        -0.05749475, -0.68798728],\n",
       "       ...,\n",
       "       [-0.02178881, -0.08520177, -0.10038122, ...,  0.86262677,\n",
       "        -0.05749475, -0.68798728],\n",
       "       [-0.02112788,  0.11808984, -0.10038122, ..., -0.01765596,\n",
       "        -0.05749475,  1.12345233],\n",
       "       [-0.01986448, -0.96613207, -0.10038122, ..., -0.01765596,\n",
       "        -0.05749475,  1.12345233]])"
      ]
     },
     "execution_count": 69,
     "metadata": {},
     "output_type": "execute_result"
    }
   ],
   "source": [
    "X_train_std"
   ]
  },
  {
   "cell_type": "code",
   "execution_count": 70,
   "metadata": {},
   "outputs": [
    {
     "data": {
      "text/plain": [
       "(45000, 10)"
      ]
     },
     "execution_count": 70,
     "metadata": {},
     "output_type": "execute_result"
    }
   ],
   "source": [
    "X_test_std.shape"
   ]
  },
  {
   "cell_type": "code",
   "execution_count": 71,
   "metadata": {},
   "outputs": [
    {
     "data": {
      "text/plain": [
       "(105000, 10)"
      ]
     },
     "execution_count": 71,
     "metadata": {},
     "output_type": "execute_result"
    }
   ],
   "source": [
    "X_train_std.shape"
   ]
  },
  {
   "cell_type": "markdown",
   "metadata": {},
   "source": [
    "## Making the pipeline\n",
    "- use PCA to derive 5 features\n",
    "- apply LR/SVM/Decision Tree\n",
    "  "
   ]
  },
  {
   "cell_type": "code",
   "execution_count": 72,
   "metadata": {},
   "outputs": [],
   "source": [
    "from sklearn.linear_model import LogisticRegression\n",
    "from sklearn.svm import SVC\n",
    "from sklearn.tree import DecisionTreeClassifier\n",
    "from sklearn.decomposition import PCA\n",
    "from sklearn.pipeline import make_pipeline"
   ]
  },
  {
   "cell_type": "code",
   "execution_count": 73,
   "metadata": {},
   "outputs": [
    {
     "name": "stdout",
     "output_type": "stream",
     "text": [
      "Test Accuracy:0.933244\n"
     ]
    }
   ],
   "source": [
    "# LR\n",
    "pipe_lr = make_pipeline(PCA(n_components=5), \n",
    "                        LogisticRegression(random_state=1))\n",
    "pipe_lr.fit(X_train_std, y_train)\n",
    "print('Test Accuracy:{:0.6f}'.format(pipe_lr.score(X_test_std,y_test)))"
   ]
  },
  {
   "cell_type": "code",
   "execution_count": 74,
   "metadata": {},
   "outputs": [
    {
     "name": "stdout",
     "output_type": "stream",
     "text": [
      "Test Accuracy:0.933244\n"
     ]
    }
   ],
   "source": [
    "# SVM\n",
    "pipe_svm = make_pipeline(PCA(n_components=5),\n",
    "                        SVC(random_state=1))\n",
    "pipe_svm.fit(X_train_std, y_train)\n",
    "print('Test Accuracy:{:0.6f}'.format(pipe_lr.score(X_test_std,y_test)))"
   ]
  },
  {
   "cell_type": "code",
   "execution_count": 75,
   "metadata": {},
   "outputs": [
    {
     "name": "stdout",
     "output_type": "stream",
     "text": [
      "Test Accuracy:0.933244\n"
     ]
    }
   ],
   "source": [
    "# Decision Tree\n",
    "pipe_dt = make_pipeline(PCA(n_components=5),\n",
    "                        DecisionTreeClassifier(random_state=1))\n",
    "pipe_dt.fit(X_train_std, y_train)\n",
    "print('Test Accuracy:{:0.6f}'.format(pipe_lr.score(X_test_std,y_test)))"
   ]
  },
  {
   "cell_type": "markdown",
   "metadata": {},
   "source": [
    "## Use 5 fold cross validation"
   ]
  },
  {
   "cell_type": "code",
   "execution_count": 80,
   "metadata": {},
   "outputs": [],
   "source": [
    "from sklearn.model_selection import StratifiedKFold"
   ]
  },
  {
   "cell_type": "code",
   "execution_count": 81,
   "metadata": {},
   "outputs": [
    {
     "name": "stdout",
     "output_type": "stream",
     "text": [
      "Fold:  1, Class dist.: [78385  5615], Acc: 0.933333\n",
      "Fold:  2, Class dist.: [78385  5615], Acc: 0.933476\n",
      "Fold:  3, Class dist.: [78386  5614], Acc: 0.933333\n",
      "Fold:  4, Class dist.: [78386  5614], Acc: 0.933286\n",
      "Fold:  5, Class dist.: [78386  5614], Acc: 0.933143\n"
     ]
    }
   ],
   "source": [
    "# LR\n",
    "# Stratified K-Fold cross-validation splitting strategy (5 splits)\n",
    "kfold = StratifiedKFold(n_splits=5).split(X_train_std, y_train)\n",
    "\n",
    "# Create a pipeline with PCA (5 components) followed by Logistic Regression\n",
    "pipe_lr = make_pipeline(PCA(n_components=5), \n",
    "                        LogisticRegression(random_state=1))\n",
    "\n",
    "# Iterate over each fold\n",
    "for k, (train,test) in enumerate(kfold):\n",
    "    # Fit the pipeline on the training data of the current fold\n",
    "    pipe_lr.fit(X_train_std[train], y_train[train])\n",
    "    \n",
    "    # Evaluate the model on the test data of the current fold\n",
    "    score = pipe_lr.score(X_train_std[test], y_train[test])\n",
    "    \n",
    "    # Print fold number, class distribution, and accuracy\n",
    "    print('Fold: %2d, Class dist.: %s, Acc: %.6f' % (k+1, np.bincount(y_train[train].astype(int)), score))"
   ]
  },
  {
   "cell_type": "code",
   "execution_count": 82,
   "metadata": {},
   "outputs": [
    {
     "name": "stdout",
     "output_type": "stream",
     "text": [
      "Fold:  1, Class dist.: [78385  5615], Acc: 0.934143\n",
      "Fold:  2, Class dist.: [78385  5615], Acc: 0.933714\n",
      "Fold:  3, Class dist.: [78386  5614], Acc: 0.934000\n",
      "Fold:  4, Class dist.: [78386  5614], Acc: 0.933667\n",
      "Fold:  5, Class dist.: [78386  5614], Acc: 0.933762\n"
     ]
    }
   ],
   "source": [
    "# SVM\n",
    "kfold = StratifiedKFold(n_splits=5).split(X_train_std, y_train)\n",
    "pipe_svc = make_pipeline(PCA(n_components=5),\n",
    "                         SVC(random_state=1))\n",
    "for k, (train,test) in enumerate(kfold):\n",
    "    pipe_svc.fit(X_train_std[train], y_train[train])\n",
    "    score = pipe_svc.score(X_train_std[test], y_train[test])\n",
    "    print('Fold: %2d, Class dist.: %s, Acc: %.6f' % (k+1, np.bincount(y_train[train].astype(int)), score))"
   ]
  },
  {
   "cell_type": "code",
   "execution_count": 83,
   "metadata": {},
   "outputs": [
    {
     "name": "stdout",
     "output_type": "stream",
     "text": [
      "Fold:  1, Class dist.: [78385  5615], Acc: 0.895619\n",
      "Fold:  2, Class dist.: [78385  5615], Acc: 0.895952\n",
      "Fold:  3, Class dist.: [78386  5614], Acc: 0.894429\n",
      "Fold:  4, Class dist.: [78386  5614], Acc: 0.896095\n",
      "Fold:  5, Class dist.: [78386  5614], Acc: 0.893762\n"
     ]
    }
   ],
   "source": [
    "# Decision Tree\n",
    "kfold = StratifiedKFold(n_splits=5).split(X_train_std, y_train)\n",
    "pipe_dt = make_pipeline(PCA(n_components=3),\n",
    "                        DecisionTreeClassifier(random_state=1))\n",
    "for k, (train,test) in enumerate(kfold):\n",
    "    pipe_dt.fit(X_train_std[train], y_train[train])\n",
    "    score = pipe_dt.score(X_train_std[test], y_train[test])\n",
    "    print('Fold: %2d, Class dist.: %s, Acc: %.6f' % (k+1, np.bincount(y_train[train].astype(int)), score))"
   ]
  },
  {
   "cell_type": "markdown",
   "metadata": {},
   "source": [
    "## Grid search\n",
    "- Use grid search for finding optimal hyperparameters. (PML p199). In the search, apply 5-fold cross-validation"
   ]
  },
  {
   "cell_type": "code",
   "execution_count": 84,
   "metadata": {},
   "outputs": [],
   "source": [
    "from sklearn.model_selection import GridSearchCV"
   ]
  },
  {
   "cell_type": "markdown",
   "metadata": {},
   "source": [
    "### Logistic regression"
   ]
  },
  {
   "cell_type": "code",
   "execution_count": 85,
   "metadata": {},
   "outputs": [
    {
     "data": {
      "text/plain": [
       "['memory',\n",
       " 'steps',\n",
       " 'verbose',\n",
       " 'pca',\n",
       " 'logisticregression',\n",
       " 'pca__copy',\n",
       " 'pca__iterated_power',\n",
       " 'pca__n_components',\n",
       " 'pca__n_oversamples',\n",
       " 'pca__power_iteration_normalizer',\n",
       " 'pca__random_state',\n",
       " 'pca__svd_solver',\n",
       " 'pca__tol',\n",
       " 'pca__whiten',\n",
       " 'logisticregression__C',\n",
       " 'logisticregression__class_weight',\n",
       " 'logisticregression__dual',\n",
       " 'logisticregression__fit_intercept',\n",
       " 'logisticregression__intercept_scaling',\n",
       " 'logisticregression__l1_ratio',\n",
       " 'logisticregression__max_iter',\n",
       " 'logisticregression__multi_class',\n",
       " 'logisticregression__n_jobs',\n",
       " 'logisticregression__penalty',\n",
       " 'logisticregression__random_state',\n",
       " 'logisticregression__solver',\n",
       " 'logisticregression__tol',\n",
       " 'logisticregression__verbose',\n",
       " 'logisticregression__warm_start']"
      ]
     },
     "execution_count": 85,
     "metadata": {},
     "output_type": "execute_result"
    }
   ],
   "source": [
    "# Create a pipeline with PCA (5 components) followed by Logistic Regression\n",
    "pipe_lr = make_pipeline(PCA(n_components=5), LogisticRegression(random_state=1))\n",
    "\n",
    "# Get the parameters available in the pipeline\n",
    "list(pipe_lr.get_params().keys())"
   ]
  },
  {
   "cell_type": "code",
   "execution_count": 86,
   "metadata": {},
   "outputs": [
    {
     "name": "stdout",
     "output_type": "stream",
     "text": [
      "0.9333523809523809\n",
      "{'logisticregression__C': 0.0001}\n"
     ]
    }
   ],
   "source": [
    "# Define the range of hyperparameters for Logistic Regression\n",
    "param_range = [0.0001,0.001, 0.01, 0.1, 1.0, 10.0,100]\n",
    "\n",
    "# Define the parameter grid for GridSearchCV\n",
    "param_grid = [{'logisticregression__C': param_range}]\n",
    "\n",
    "# Perform Grid Search Cross Validation\n",
    "gs_lr = GridSearchCV(\n",
    "    estimator=pipe_lr,  # Pipeline object containing PCA and Logistic Regression\n",
    "    param_grid=param_grid,  # Dictionary specifying the hyperparameter grid\n",
    "    scoring='accuracy',  # Scoring metric used to evaluate model performance\n",
    "    cv=5,  # Number of folds for cross-validation\n",
    "    n_jobs=-1  # Number of CPU cores to use for parallel processing (-1 means using all available cores)\n",
    ")\n",
    "\n",
    "# Perform grid search to find the best combination of hyperparameters\n",
    "gs_lr = gs_lr.fit(X_train_std, y_train)\n",
    "\n",
    "# Print the best score and best parameters found by GridSearchCV\n",
    "print(gs_lr.best_score_)\n",
    "print(gs_lr.best_params_)\n"
   ]
  },
  {
   "cell_type": "markdown",
   "metadata": {},
   "source": [
    "### SVM"
   ]
  },
  {
   "cell_type": "code",
   "execution_count": 91,
   "metadata": {},
   "outputs": [
    {
     "data": {
      "text/plain": [
       "['memory',\n",
       " 'steps',\n",
       " 'verbose',\n",
       " 'pca',\n",
       " 'svc',\n",
       " 'pca__copy',\n",
       " 'pca__iterated_power',\n",
       " 'pca__n_components',\n",
       " 'pca__n_oversamples',\n",
       " 'pca__power_iteration_normalizer',\n",
       " 'pca__random_state',\n",
       " 'pca__svd_solver',\n",
       " 'pca__tol',\n",
       " 'pca__whiten',\n",
       " 'svc__C',\n",
       " 'svc__break_ties',\n",
       " 'svc__cache_size',\n",
       " 'svc__class_weight',\n",
       " 'svc__coef0',\n",
       " 'svc__decision_function_shape',\n",
       " 'svc__degree',\n",
       " 'svc__gamma',\n",
       " 'svc__kernel',\n",
       " 'svc__max_iter',\n",
       " 'svc__probability',\n",
       " 'svc__random_state',\n",
       " 'svc__shrinking',\n",
       " 'svc__tol',\n",
       " 'svc__verbose']"
      ]
     },
     "execution_count": 91,
     "metadata": {},
     "output_type": "execute_result"
    }
   ],
   "source": [
    "pipe_svc = make_pipeline(PCA(n_components=3), SVC(random_state=1))\n",
    "list(pipe_svc.get_params().keys())"
   ]
  },
  {
   "cell_type": "code",
   "execution_count": 92,
   "metadata": {},
   "outputs": [
    {
     "name": "stdout",
     "output_type": "stream",
     "text": [
      "0.9333523809523809\n",
      "{'svc__C': 0.01, 'svc__kernel': 'linear'}\n"
     ]
    }
   ],
   "source": [
    "param_range = [0.001, 0.01, 0.1]\n",
    "\n",
    "param_grid = [{'svc__C': param_range, 'svc__kernel': ['linear']}]\n",
    "\n",
    "gs_svc = GridSearchCV( estimator=pipe_svc,\n",
    "                       param_grid=param_grid, \n",
    "                       scoring='accuracy', \n",
    "                       cv=5, \n",
    "                       n_jobs=-1)\n",
    "gs_svc = gs_svc.fit(X_train_std, y_train)\n",
    "\n",
    "print(gs_svc.best_score_)\n",
    "print(gs_svc.best_params_)"
   ]
  },
  {
   "cell_type": "markdown",
   "metadata": {},
   "source": [
    "### Decision Tree"
   ]
  },
  {
   "cell_type": "code",
   "execution_count": 93,
   "metadata": {},
   "outputs": [
    {
     "data": {
      "text/plain": [
       "['memory',\n",
       " 'steps',\n",
       " 'verbose',\n",
       " 'pca',\n",
       " 'decisiontreeclassifier',\n",
       " 'pca__copy',\n",
       " 'pca__iterated_power',\n",
       " 'pca__n_components',\n",
       " 'pca__n_oversamples',\n",
       " 'pca__power_iteration_normalizer',\n",
       " 'pca__random_state',\n",
       " 'pca__svd_solver',\n",
       " 'pca__tol',\n",
       " 'pca__whiten',\n",
       " 'decisiontreeclassifier__ccp_alpha',\n",
       " 'decisiontreeclassifier__class_weight',\n",
       " 'decisiontreeclassifier__criterion',\n",
       " 'decisiontreeclassifier__max_depth',\n",
       " 'decisiontreeclassifier__max_features',\n",
       " 'decisiontreeclassifier__max_leaf_nodes',\n",
       " 'decisiontreeclassifier__min_impurity_decrease',\n",
       " 'decisiontreeclassifier__min_samples_leaf',\n",
       " 'decisiontreeclassifier__min_samples_split',\n",
       " 'decisiontreeclassifier__min_weight_fraction_leaf',\n",
       " 'decisiontreeclassifier__random_state',\n",
       " 'decisiontreeclassifier__splitter']"
      ]
     },
     "execution_count": 93,
     "metadata": {},
     "output_type": "execute_result"
    }
   ],
   "source": [
    "pipe_dt = make_pipeline(PCA(n_components=5), DecisionTreeClassifier(random_state=1))\n",
    "list(pipe_dt.get_params().keys())"
   ]
  },
  {
   "cell_type": "code",
   "execution_count": 94,
   "metadata": {},
   "outputs": [
    {
     "name": "stdout",
     "output_type": "stream",
     "text": [
      "0.9356285714285713\n",
      "{'decisiontreeclassifier__max_depth': 6}\n"
     ]
    }
   ],
   "source": [
    "param_range = list(range(1,21))\n",
    "param_grid = [{'decisiontreeclassifier__max_depth': param_range}]\n",
    "\n",
    "gs_dt = GridSearchCV(estimator=pipe_dt,\n",
    "                    param_grid=param_grid,\n",
    "                    scoring='accuracy',\n",
    "                    cv=5,\n",
    "                    n_jobs=-1)\n",
    "gs_dt = gs_dt.fit(X_train_std, y_train)\n",
    "\n",
    "print(gs_dt.best_score_)\n",
    "print(gs_dt.best_params_)"
   ]
  }
 ],
 "metadata": {
  "kernelspec": {
   "display_name": "base",
   "language": "python",
   "name": "python3"
  },
  "language_info": {
   "codemirror_mode": {
    "name": "ipython",
    "version": 3
   },
   "file_extension": ".py",
   "mimetype": "text/x-python",
   "name": "python",
   "nbconvert_exporter": "python",
   "pygments_lexer": "ipython3",
   "version": "3.9.13"
  }
 },
 "nbformat": 4,
 "nbformat_minor": 2
}
